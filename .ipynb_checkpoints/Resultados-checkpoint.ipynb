{
 "cells": [
  {
   "cell_type": "code",
   "execution_count": 1,
   "metadata": {},
   "outputs": [],
   "source": [
    "import pandas as pd\n",
    "import numpy as np\n",
    "import ast\n",
    "from matplotlib import pyplot as plt\n",
    "from sklearn.metrics import roc_curve\n",
    "from sklearn.metrics import auc\n",
    "from sklearn.metrics import precision_recall_curve\n",
    "import seaborn as sns\n",
    "\n",
    "sns.set_style(\"whitegrid\", {\"axes.facecolor\": \".9\"})\n",
    "\n",
    "sns.set_style(\"whitegrid\")\n",
    "sns.set_palette(\"deep\")"
   ]
  },
  {
   "cell_type": "markdown",
   "metadata": {},
   "source": [
    "# Results to RCNN"
   ]
  },
  {
   "cell_type": "code",
   "execution_count": 62,
   "metadata": {},
   "outputs": [],
   "source": [
    "names=['ovitrap','ground_truth','detected','mAP','detected_true_positive','detected_false_positives','recall','precision_array']"
   ]
  },
  {
   "cell_type": "code",
   "execution_count": 68,
   "metadata": {},
   "outputs": [],
   "source": [
    "colunms_type = {'ovitrap': str,'mAP': float,'detected':int, 'detected_true_positive':int,'detected_false_positives':int}"
   ]
  },
  {
   "cell_type": "code",
   "execution_count": 69,
   "metadata": {},
   "outputs": [],
   "source": [
    "df = pd.read_csv(\"rcnn.txt\", sep=\";\", names=names, skiprows=1, dtype=colunms_type )"
   ]
  },
  {
   "cell_type": "code",
   "execution_count": 70,
   "metadata": {},
   "outputs": [],
   "source": [
    "df['precision'] = df.apply(lambda x: x['detected_true_positive']/(x['detected_false_positives']+x['detected_true_positive']),  axis=1)\n"
   ]
  },
  {
   "cell_type": "code",
   "execution_count": 71,
   "metadata": {},
   "outputs": [
    {
     "data": {
      "text/html": [
       "<div>\n",
       "<style scoped>\n",
       "    .dataframe tbody tr th:only-of-type {\n",
       "        vertical-align: middle;\n",
       "    }\n",
       "\n",
       "    .dataframe tbody tr th {\n",
       "        vertical-align: top;\n",
       "    }\n",
       "\n",
       "    .dataframe thead th {\n",
       "        text-align: right;\n",
       "    }\n",
       "</style>\n",
       "<table border=\"1\" class=\"dataframe\">\n",
       "  <thead>\n",
       "    <tr style=\"text-align: right;\">\n",
       "      <th></th>\n",
       "      <th>ovitrap</th>\n",
       "      <th>ground_truth</th>\n",
       "      <th>detected</th>\n",
       "      <th>mAP</th>\n",
       "      <th>detected_true_positive</th>\n",
       "      <th>detected_false_positives</th>\n",
       "      <th>recall</th>\n",
       "      <th>precision_array</th>\n",
       "      <th>precision</th>\n",
       "    </tr>\n",
       "  </thead>\n",
       "  <tbody>\n",
       "    <tr>\n",
       "      <th>0</th>\n",
       "      <td>56</td>\n",
       "      <td>28</td>\n",
       "      <td>27</td>\n",
       "      <td>88.34</td>\n",
       "      <td>25</td>\n",
       "      <td>2</td>\n",
       "      <td>['1.00', '1.00', '1.00', '1.00', '1.00', '1.00...</td>\n",
       "      <td>['0.04', '0.07', '0.11', '0.14', '0.18', '0.21...</td>\n",
       "      <td>0.925926</td>\n",
       "    </tr>\n",
       "    <tr>\n",
       "      <th>1</th>\n",
       "      <td>57</td>\n",
       "      <td>281</td>\n",
       "      <td>229</td>\n",
       "      <td>80.75</td>\n",
       "      <td>227</td>\n",
       "      <td>2</td>\n",
       "      <td>['0.00', '0.01', '0.01', '0.01', '0.02', '0.02...</td>\n",
       "      <td>['1.00', '1.00', '1.00', '1.00', '1.00', '1.00...</td>\n",
       "      <td>0.991266</td>\n",
       "    </tr>\n",
       "    <tr>\n",
       "      <th>2</th>\n",
       "      <td>62</td>\n",
       "      <td>161</td>\n",
       "      <td>89</td>\n",
       "      <td>55.28</td>\n",
       "      <td>89</td>\n",
       "      <td>0</td>\n",
       "      <td>['0.01', '0.01', '0.02', '0.02', '0.03', '0.04...</td>\n",
       "      <td>['1.00', '1.00', '1.00', '1.00', '1.00', '1.00...</td>\n",
       "      <td>1.000000</td>\n",
       "    </tr>\n",
       "    <tr>\n",
       "      <th>3</th>\n",
       "      <td>64</td>\n",
       "      <td>886</td>\n",
       "      <td>756</td>\n",
       "      <td>84.40</td>\n",
       "      <td>749</td>\n",
       "      <td>7</td>\n",
       "      <td>['0.00', '0.00', '0.00', '0.00', '0.01', '0.01...</td>\n",
       "      <td>['1.00', '1.00', '1.00', '1.00', '1.00', '1.00...</td>\n",
       "      <td>0.990741</td>\n",
       "    </tr>\n",
       "    <tr>\n",
       "      <th>4</th>\n",
       "      <td>68</td>\n",
       "      <td>455</td>\n",
       "      <td>385</td>\n",
       "      <td>83.57</td>\n",
       "      <td>381</td>\n",
       "      <td>4</td>\n",
       "      <td>['0.00', '0.00', '0.01', '0.01', '0.01', '0.01...</td>\n",
       "      <td>['1.00', '1.00', '1.00', '1.00', '1.00', '1.00...</td>\n",
       "      <td>0.989610</td>\n",
       "    </tr>\n",
       "    <tr>\n",
       "      <th>5</th>\n",
       "      <td>70</td>\n",
       "      <td>4</td>\n",
       "      <td>6</td>\n",
       "      <td>85.42</td>\n",
       "      <td>4</td>\n",
       "      <td>2</td>\n",
       "      <td>['0.25', '0.50', '0.50', '0.75', '0.75', '1.00']</td>\n",
       "      <td>['1.00', '1.00', '0.67', '0.75', '0.60', '0.67']</td>\n",
       "      <td>0.666667</td>\n",
       "    </tr>\n",
       "    <tr>\n",
       "      <th>6</th>\n",
       "      <td>72</td>\n",
       "      <td>15</td>\n",
       "      <td>15</td>\n",
       "      <td>93.33</td>\n",
       "      <td>14</td>\n",
       "      <td>1</td>\n",
       "      <td>['0.07', '0.13', '0.20', '0.27', '0.33', '0.40...</td>\n",
       "      <td>['1.00', '1.00', '1.00', '1.00', '1.00', '1.00...</td>\n",
       "      <td>0.933333</td>\n",
       "    </tr>\n",
       "    <tr>\n",
       "      <th>7</th>\n",
       "      <td>76</td>\n",
       "      <td>128</td>\n",
       "      <td>94</td>\n",
       "      <td>71.25</td>\n",
       "      <td>92</td>\n",
       "      <td>2</td>\n",
       "      <td>['0.01', '0.02', '0.02', '0.03', '0.04', '0.05...</td>\n",
       "      <td>['1.00', '1.00', '1.00', '1.00', '1.00', '1.00...</td>\n",
       "      <td>0.978723</td>\n",
       "    </tr>\n",
       "    <tr>\n",
       "      <th>8</th>\n",
       "      <td>79</td>\n",
       "      <td>22</td>\n",
       "      <td>23</td>\n",
       "      <td>89.16</td>\n",
       "      <td>20</td>\n",
       "      <td>3</td>\n",
       "      <td>['0.05', '0.09', '0.14', '0.18', '0.23', '0.27...</td>\n",
       "      <td>['1.00', '1.00', '1.00', '1.00', '1.00', '1.00...</td>\n",
       "      <td>0.869565</td>\n",
       "    </tr>\n",
       "    <tr>\n",
       "      <th>9</th>\n",
       "      <td>81</td>\n",
       "      <td>136</td>\n",
       "      <td>128</td>\n",
       "      <td>92.11</td>\n",
       "      <td>126</td>\n",
       "      <td>2</td>\n",
       "      <td>['0.01', '0.01', '0.02', '0.03', '0.04', '0.04...</td>\n",
       "      <td>['1.00', '1.00', '1.00', '1.00', '1.00', '1.00...</td>\n",
       "      <td>0.984375</td>\n",
       "    </tr>\n",
       "  </tbody>\n",
       "</table>\n",
       "</div>"
      ],
      "text/plain": [
       "  ovitrap  ground_truth  detected    mAP  detected_true_positive  \\\n",
       "0      56            28        27  88.34                      25   \n",
       "1      57           281       229  80.75                     227   \n",
       "2      62           161        89  55.28                      89   \n",
       "3      64           886       756  84.40                     749   \n",
       "4      68           455       385  83.57                     381   \n",
       "5      70             4         6  85.42                       4   \n",
       "6      72            15        15  93.33                      14   \n",
       "7      76           128        94  71.25                      92   \n",
       "8      79            22        23  89.16                      20   \n",
       "9      81           136       128  92.11                     126   \n",
       "\n",
       "   detected_false_positives  \\\n",
       "0                         2   \n",
       "1                         2   \n",
       "2                         0   \n",
       "3                         7   \n",
       "4                         4   \n",
       "5                         2   \n",
       "6                         1   \n",
       "7                         2   \n",
       "8                         3   \n",
       "9                         2   \n",
       "\n",
       "                                              recall  \\\n",
       "0  ['1.00', '1.00', '1.00', '1.00', '1.00', '1.00...   \n",
       "1  ['0.00', '0.01', '0.01', '0.01', '0.02', '0.02...   \n",
       "2  ['0.01', '0.01', '0.02', '0.02', '0.03', '0.04...   \n",
       "3  ['0.00', '0.00', '0.00', '0.00', '0.01', '0.01...   \n",
       "4  ['0.00', '0.00', '0.01', '0.01', '0.01', '0.01...   \n",
       "5   ['0.25', '0.50', '0.50', '0.75', '0.75', '1.00']   \n",
       "6  ['0.07', '0.13', '0.20', '0.27', '0.33', '0.40...   \n",
       "7  ['0.01', '0.02', '0.02', '0.03', '0.04', '0.05...   \n",
       "8  ['0.05', '0.09', '0.14', '0.18', '0.23', '0.27...   \n",
       "9  ['0.01', '0.01', '0.02', '0.03', '0.04', '0.04...   \n",
       "\n",
       "                                     precision_array  precision  \n",
       "0  ['0.04', '0.07', '0.11', '0.14', '0.18', '0.21...   0.925926  \n",
       "1  ['1.00', '1.00', '1.00', '1.00', '1.00', '1.00...   0.991266  \n",
       "2  ['1.00', '1.00', '1.00', '1.00', '1.00', '1.00...   1.000000  \n",
       "3  ['1.00', '1.00', '1.00', '1.00', '1.00', '1.00...   0.990741  \n",
       "4  ['1.00', '1.00', '1.00', '1.00', '1.00', '1.00...   0.989610  \n",
       "5   ['1.00', '1.00', '0.67', '0.75', '0.60', '0.67']   0.666667  \n",
       "6  ['1.00', '1.00', '1.00', '1.00', '1.00', '1.00...   0.933333  \n",
       "7  ['1.00', '1.00', '1.00', '1.00', '1.00', '1.00...   0.978723  \n",
       "8  ['1.00', '1.00', '1.00', '1.00', '1.00', '1.00...   0.869565  \n",
       "9  ['1.00', '1.00', '1.00', '1.00', '1.00', '1.00...   0.984375  "
      ]
     },
     "execution_count": 71,
     "metadata": {},
     "output_type": "execute_result"
    }
   ],
   "source": [
    "df"
   ]
  },
  {
   "cell_type": "code",
   "execution_count": 72,
   "metadata": {
    "scrolled": true
   },
   "outputs": [
    {
     "data": {
      "image/png": "[encoded data removed]",
      "text/plain": [
       "<Figure size 504x288 with 1 Axes>"
      ]
     },
     "metadata": {
      "needs_background": "light"
     },
     "output_type": "display_data"
    }
   ],
   "source": [
    "ground_truth = df['ground_truth'].values\n",
    "detected_true_positive = df['detected_true_positive'].values\n",
    "detected_false_positive = df['detected_false_positives'].values\n",
    "detected = df['detected'].values\n",
    "ovitraps = df['ovitrap'].values\n",
    "plt.figure(figsize=(7,4))\n",
    "plt.title(\"Ground Truth versus Faster-RCNN\", fontsize=13, fontweight='bold')\n",
    "plt.bar(ovitraps, ground_truth, label=\"Ground Truth\")\n",
    "plt.bar(ovitraps, detected_true_positive,  label=\"Detecteds\")\n",
    "plt.ylabel(\"Eggs\",  fontsize=13, fontweight='bold')\n",
    "plt.xlabel(\"Ovitraps\",  fontsize=13, fontweight='bold')\n",
    "\n",
    "plt.legend();"
   ]
  },
  {
   "cell_type": "code",
   "execution_count": 75,
   "metadata": {},
   "outputs": [
    {
     "data": {
      "image/png": "[encoded data removed]",
      "text/plain": [
       "<Figure size 504x288 with 1 Axes>"
      ]
     },
     "metadata": {
      "needs_background": "light"
     },
     "output_type": "display_data"
    }
   ],
   "source": [
    "plt.figure(figsize=(7,4))\n",
    "\n",
    "for o,r, p in zip(df['ovitrap'], df['recall'], df['precision_array']):\n",
    "    precision = np.array(ast.literal_eval(p)).astype(float)\n",
    "    recall = np.array(ast.literal_eval(r)).astype(float)\n",
    "    plt.plot(recall, precision, label=\"Ovitrap \"+o, linewidth=3)\n",
    "plt.title(\"Precision-Recall graph RCNN\", fontsize=13)\n",
    "plt.xlabel('Recall', fontsize=13)\n",
    "plt.ylabel('Precision', fontsize=13)\n",
    "plt.legend()\n",
    "plt.show()\n"
   ]
  },
  {
   "cell_type": "markdown",
   "metadata": {},
   "source": [
    "# Results RFCN"
   ]
  },
  {
   "cell_type": "code",
   "execution_count": 76,
   "metadata": {},
   "outputs": [],
   "source": [
    "df_rfcn = pd.read_csv(\"rfcn.txt\", sep=\";\", names=names, skiprows=1, dtype=colunms_type )\n",
    "df_rfcn['p'] = df_rfcn.apply(lambda x: x['detected_true_positive']/(x['detected_false_positives']+x['detected_true_positive']),  axis=1)\n"
   ]
  },
  {
   "cell_type": "code",
   "execution_count": 77,
   "metadata": {},
   "outputs": [
    {
     "data": {
      "text/html": [
       "<div>\n",
       "<style scoped>\n",
       "    .dataframe tbody tr th:only-of-type {\n",
       "        vertical-align: middle;\n",
       "    }\n",
       "\n",
       "    .dataframe tbody tr th {\n",
       "        vertical-align: top;\n",
       "    }\n",
       "\n",
       "    .dataframe thead th {\n",
       "        text-align: right;\n",
       "    }\n",
       "</style>\n",
       "<table border=\"1\" class=\"dataframe\">\n",
       "  <thead>\n",
       "    <tr style=\"text-align: right;\">\n",
       "      <th></th>\n",
       "      <th>ovitrap</th>\n",
       "      <th>ground_truth</th>\n",
       "      <th>detected</th>\n",
       "      <th>mAP</th>\n",
       "      <th>detected_true_positive</th>\n",
       "      <th>detected_false_positives</th>\n",
       "      <th>recall</th>\n",
       "      <th>precision_array</th>\n",
       "      <th>p</th>\n",
       "    </tr>\n",
       "  </thead>\n",
       "  <tbody>\n",
       "    <tr>\n",
       "      <th>0</th>\n",
       "      <td>56</td>\n",
       "      <td>28</td>\n",
       "      <td>26</td>\n",
       "      <td>81.12</td>\n",
       "      <td>23</td>\n",
       "      <td>3</td>\n",
       "      <td>['0.04', '0.07', '0.11', '0.14', '0.18', '0.21...</td>\n",
       "      <td>['1.00', '1.00', '1.00', '1.00', '1.00', '1.00...</td>\n",
       "      <td>0.884615</td>\n",
       "    </tr>\n",
       "    <tr>\n",
       "      <th>1</th>\n",
       "      <td>57</td>\n",
       "      <td>281</td>\n",
       "      <td>216</td>\n",
       "      <td>71.01</td>\n",
       "      <td>202</td>\n",
       "      <td>14</td>\n",
       "      <td>['0.00', '0.01', '0.01', '0.01', '0.02', '0.02...</td>\n",
       "      <td>['1.00', '1.00', '1.00', '1.00', '1.00', '1.00...</td>\n",
       "      <td>0.935185</td>\n",
       "    </tr>\n",
       "    <tr>\n",
       "      <th>2</th>\n",
       "      <td>62</td>\n",
       "      <td>161</td>\n",
       "      <td>98</td>\n",
       "      <td>54.59</td>\n",
       "      <td>91</td>\n",
       "      <td>7</td>\n",
       "      <td>['0.01', '0.01', '0.02', '0.02', '0.03', '0.04...</td>\n",
       "      <td>['1.00', '1.00', '1.00', '1.00', '1.00', '1.00...</td>\n",
       "      <td>0.928571</td>\n",
       "    </tr>\n",
       "    <tr>\n",
       "      <th>3</th>\n",
       "      <td>64</td>\n",
       "      <td>886</td>\n",
       "      <td>732</td>\n",
       "      <td>79.69</td>\n",
       "      <td>208</td>\n",
       "      <td>24</td>\n",
       "      <td>['0.00', '0.00', '0.00', '0.00', '0.01', '0.01...</td>\n",
       "      <td>['1.00', '1.00', '1.00', '1.00', '1.00', '1.00...</td>\n",
       "      <td>0.896552</td>\n",
       "    </tr>\n",
       "    <tr>\n",
       "      <th>4</th>\n",
       "      <td>68</td>\n",
       "      <td>455</td>\n",
       "      <td>388</td>\n",
       "      <td>78.40</td>\n",
       "      <td>360</td>\n",
       "      <td>28</td>\n",
       "      <td>['0.00', '0.00', '0.01', '0.01', '0.01', '0.01...</td>\n",
       "      <td>['1.00', '1.00', '1.00', '1.00', '1.00', '1.00...</td>\n",
       "      <td>0.927835</td>\n",
       "    </tr>\n",
       "    <tr>\n",
       "      <th>5</th>\n",
       "      <td>70</td>\n",
       "      <td>4</td>\n",
       "      <td>2</td>\n",
       "      <td>25.00</td>\n",
       "      <td>1</td>\n",
       "      <td>1</td>\n",
       "      <td>['0.25', '0.25']</td>\n",
       "      <td>['1.00', '0.50']</td>\n",
       "      <td>0.500000</td>\n",
       "    </tr>\n",
       "    <tr>\n",
       "      <th>6</th>\n",
       "      <td>72</td>\n",
       "      <td>15</td>\n",
       "      <td>6</td>\n",
       "      <td>31.11</td>\n",
       "      <td>5</td>\n",
       "      <td>1</td>\n",
       "      <td>['0.07', '0.13', '0.20', '0.20', '0.27', '0.33']</td>\n",
       "      <td>['1.00', '1.00', '1.00', '0.75', '0.80', '0.83']</td>\n",
       "      <td>0.833333</td>\n",
       "    </tr>\n",
       "    <tr>\n",
       "      <th>7</th>\n",
       "      <td>76</td>\n",
       "      <td>128</td>\n",
       "      <td>98</td>\n",
       "      <td>69.18</td>\n",
       "      <td>90</td>\n",
       "      <td>8</td>\n",
       "      <td>['0.01', '0.02', '0.02', '0.03', '0.04', '0.05...</td>\n",
       "      <td>['1.00', '1.00', '1.00', '1.00', '1.00', '1.00...</td>\n",
       "      <td>0.918367</td>\n",
       "    </tr>\n",
       "    <tr>\n",
       "      <th>8</th>\n",
       "      <td>79</td>\n",
       "      <td>22</td>\n",
       "      <td>17</td>\n",
       "      <td>59.91</td>\n",
       "      <td>14</td>\n",
       "      <td>3</td>\n",
       "      <td>['0.05', '0.09', '0.14', '0.18', '0.18', '0.23...</td>\n",
       "      <td>['1.00', '1.00', '1.00', '1.00', '0.80', '0.83...</td>\n",
       "      <td>0.823529</td>\n",
       "    </tr>\n",
       "    <tr>\n",
       "      <th>9</th>\n",
       "      <td>81</td>\n",
       "      <td>136</td>\n",
       "      <td>111</td>\n",
       "      <td>69.00</td>\n",
       "      <td>97</td>\n",
       "      <td>14</td>\n",
       "      <td>['0.01', '0.01', '0.02', '0.03', '0.04', '0.04...</td>\n",
       "      <td>['1.00', '1.00', '1.00', '1.00', '1.00', '1.00...</td>\n",
       "      <td>0.873874</td>\n",
       "    </tr>\n",
       "  </tbody>\n",
       "</table>\n",
       "</div>"
      ],
      "text/plain": [
       "  ovitrap  ground_truth  detected    mAP  detected_true_positive  \\\n",
       "0      56            28        26  81.12                      23   \n",
       "1      57           281       216  71.01                     202   \n",
       "2      62           161        98  54.59                      91   \n",
       "3      64           886       732  79.69                     208   \n",
       "4      68           455       388  78.40                     360   \n",
       "5      70             4         2  25.00                       1   \n",
       "6      72            15         6  31.11                       5   \n",
       "7      76           128        98  69.18                      90   \n",
       "8      79            22        17  59.91                      14   \n",
       "9      81           136       111  69.00                      97   \n",
       "\n",
       "   detected_false_positives  \\\n",
       "0                         3   \n",
       "1                        14   \n",
       "2                         7   \n",
       "3                        24   \n",
       "4                        28   \n",
       "5                         1   \n",
       "6                         1   \n",
       "7                         8   \n",
       "8                         3   \n",
       "9                        14   \n",
       "\n",
       "                                              recall  \\\n",
       "0  ['0.04', '0.07', '0.11', '0.14', '0.18', '0.21...   \n",
       "1  ['0.00', '0.01', '0.01', '0.01', '0.02', '0.02...   \n",
       "2  ['0.01', '0.01', '0.02', '0.02', '0.03', '0.04...   \n",
       "3  ['0.00', '0.00', '0.00', '0.00', '0.01', '0.01...   \n",
       "4  ['0.00', '0.00', '0.01', '0.01', '0.01', '0.01...   \n",
       "5                                   ['0.25', '0.25']   \n",
       "6   ['0.07', '0.13', '0.20', '0.20', '0.27', '0.33']   \n",
       "7  ['0.01', '0.02', '0.02', '0.03', '0.04', '0.05...   \n",
       "8  ['0.05', '0.09', '0.14', '0.18', '0.18', '0.23...   \n",
       "9  ['0.01', '0.01', '0.02', '0.03', '0.04', '0.04...   \n",
       "\n",
       "                                     precision_array         p  \n",
       "0  ['1.00', '1.00', '1.00', '1.00', '1.00', '1.00...  0.884615  \n",
       "1  ['1.00', '1.00', '1.00', '1.00', '1.00', '1.00...  0.935185  \n",
       "2  ['1.00', '1.00', '1.00', '1.00', '1.00', '1.00...  0.928571  \n",
       "3  ['1.00', '1.00', '1.00', '1.00', '1.00', '1.00...  0.896552  \n",
       "4  ['1.00', '1.00', '1.00', '1.00', '1.00', '1.00...  0.927835  \n",
       "5                                   ['1.00', '0.50']  0.500000  \n",
       "6   ['1.00', '1.00', '1.00', '0.75', '0.80', '0.83']  0.833333  \n",
       "7  ['1.00', '1.00', '1.00', '1.00', '1.00', '1.00...  0.918367  \n",
       "8  ['1.00', '1.00', '1.00', '1.00', '0.80', '0.83...  0.823529  \n",
       "9  ['1.00', '1.00', '1.00', '1.00', '1.00', '1.00...  0.873874  "
      ]
     },
     "execution_count": 77,
     "metadata": {},
     "output_type": "execute_result"
    }
   ],
   "source": [
    "df_rfcn"
   ]
  },
  {
   "cell_type": "code",
   "execution_count": null,
   "metadata": {},
   "outputs": [],
   "source": []
  },
  {
   "cell_type": "code",
   "execution_count": 78,
   "metadata": {},
   "outputs": [
    {
     "data": {
      "image/png": "[encoded data removed]",
      "text/plain": [
       "<Figure size 504x288 with 1 Axes>"
      ]
     },
     "metadata": {
      "needs_background": "light"
     },
     "output_type": "display_data"
    }
   ],
   "source": [
    "ground_truth = df_rfcn['ground_truth'].values\n",
    "detected_true_positive = df_rfcn['detected_true_positive'].values\n",
    "detected_false_positive = df_rfcn['detected_false_positives'].values\n",
    "detected = df_rfcn['detected'].values\n",
    "ovitraps = df_rfcn['ovitrap'].values\n",
    "plt.figure(figsize=(7,4))\n",
    "plt.title(\"Ground Truth versus RFCN\", fontsize=13, fontweight='bold')\n",
    "plt.bar(ovitraps, ground_truth, label=\"Ground Truth\")\n",
    "plt.bar(ovitraps, detected_true_positive, label=\"Detecteds\")\n",
    "plt.ylabel(\"Eggs\",  fontsize=13, fontweight='bold')\n",
    "plt.xlabel(\"Ovitraps\",  fontsize=13, fontweight='bold')\n",
    "\n",
    "plt.legend();"
   ]
  },
  {
   "cell_type": "code",
   "execution_count": 80,
   "metadata": {},
   "outputs": [
    {
     "data": {
      "image/png": "[encoded data removed]",
      "text/plain": [
       "<Figure size 504x288 with 1 Axes>"
      ]
     },
     "metadata": {
      "needs_background": "light"
     },
     "output_type": "display_data"
    }
   ],
   "source": [
    "plt.figure(figsize=(7,4))\n",
    "for o,r, p in zip(df_rfcn['ovitrap'], df_rfcn['recall'], df_rfcn['precision_array']):\n",
    "    precision = np.array(ast.literal_eval(p)).astype(float)\n",
    "   \n",
    "    recall = np.array(ast.literal_eval(r)).astype(float)\n",
    "    plt.plot(recall, precision, label=\"Ovitrap \"+o, linewidth=3)\n",
    "\n",
    "plt.title(\"Precision-Recall graph\", fontsize=13)\n",
    "plt.xlabel('Recall', fontsize=13)\n",
    "plt.ylabel('Precision', fontsize=13)\n",
    "plt.legend()\n",
    "plt.show()"
   ]
  },
  {
   "cell_type": "code",
   "execution_count": 81,
   "metadata": {},
   "outputs": [],
   "source": [
    "mAP_rcnn = df['mAP']\n",
    "mAP_rfcn = df_rfcn['mAP']\n",
    "data = {\"RCNN\": mAP_rcnn, \"RFCN\":mAP_rfcn}"
   ]
  },
  {
   "cell_type": "code",
   "execution_count": 82,
   "metadata": {
    "scrolled": true
   },
   "outputs": [
    {
     "data": {
      "image/png": "[encoded data removed]",
      "text/plain": [
       "<Figure size 864x288 with 1 Axes>"
      ]
     },
     "metadata": {
      "needs_background": "light"
     },
     "output_type": "display_data"
    }
   ],
   "source": [
    "labels = df['ovitrap']\n",
    "x = np.arange(len(labels))  # the label locations\n",
    "width = 0.45  # the width of the bars\n",
    "fig, ax = plt.subplots()\n",
    "fig = fig.set_size_inches(12, 4, forward=True)\n",
    "rects1 = ax.bar(x - width/2, mAP_rcnn, width, label='RCNN')\n",
    "rects2 = ax.bar(x + width/2, mAP_rfcn, width, label='RFCN')\n",
    "# Add some text for labels, title and custom x-axis tick labels, etc.\n",
    "\n",
    "ax.legend(loc='upper center', bbox_to_anchor=(0.9,1.2));\n",
    "ax.set_ylabel('mAP %', fontsize=13, fontweight='bold')\n",
    "ax.set_title('mAP Networks', fontsize=13, fontweight='bold')\n",
    "ax.set_xticks(x)\n",
    "plt.xlabel('Ovitraps', fontsize=13, fontweight='bold')\n",
    "ax.set_xticklabels(labels)\n",
    "\n",
    "def autolabel(rects):\n",
    "    \"\"\"Attach a text label above each bar in *rects*, displaying its height.\"\"\"\n",
    "    for rect in rects:\n",
    "        height = rect.get_height()\n",
    "        ax.annotate('{}'.format(np.round(height,1)),\n",
    "                    xy=(rect.get_x() + rect.get_width() / 2, np.round(height,1)),\n",
    "                    xytext=(0, 3), \n",
    "                    textcoords=\"offset points\",\n",
    "                    ha='center', va='bottom')\n",
    "\n",
    "\n",
    "autolabel(rects1)\n",
    "autolabel(rects2)\n",
    "\n",
    "\n"
   ]
  },
  {
   "cell_type": "code",
   "execution_count": 83,
   "metadata": {},
   "outputs": [
    {
     "data": {
      "image/png": "[encoded data removed]",
      "text/plain": [
       "<Figure size 576x288 with 1 Axes>"
      ]
     },
     "metadata": {
      "needs_background": "light"
     },
     "output_type": "display_data"
    }
   ],
   "source": [
    "labels = df['ovitrap']\n",
    "width = 0.45  # the width of the bars\n",
    "fig, ax = plt.subplots()\n",
    "fig = fig.set_size_inches(8, 4, forward=True)\n",
    "rects1 = ax.bar(x - width/2, df['detected_false_positives'], width, label='RCNN')\n",
    "rects2 = ax.bar(x + width/2,df_rfcn['detected_false_positives'], width, label='RFCN')\n",
    "# Add some text for labels, title and custom x-axis tick labels, etc.\n",
    "\n",
    "ax.legend(loc='upper center', bbox_to_anchor=(0.91,1));\n",
    "ax.set_ylabel('false positives', fontsize=13, fontweight='bold')\n",
    "ax.set_title('Comparative false positives',  fontsize=13, fontweight='bold')\n",
    "ax.set_xticks(x)\n",
    "plt.xlabel('Ovitraps', fontsize=13, fontweight='bold')\n",
    "ax.set_xticklabels(labels)\n",
    "\n",
    "def autolabel(rects):\n",
    "    \"\"\"Attach a text label above each bar in *rects*, displaying its height.\"\"\"\n",
    "    for rect in rects:\n",
    "        height = rect.get_height()\n",
    "        ax.annotate('{}'.format(np.round(height,1)),\n",
    "                    xy=(rect.get_x() + rect.get_width() / 2, np.round(height,1)),\n",
    "                    xytext=(0, 3), \n",
    "                    textcoords=\"offset points\",\n",
    "                    ha='center', va='bottom')\n",
    "\n",
    "\n",
    "autolabel(rects1)\n",
    "autolabel(rects2)"
   ]
  },
  {
   "cell_type": "markdown",
   "metadata": {},
   "source": [
    "Precisão"
   ]
  },
  {
   "cell_type": "code",
   "execution_count": 85,
   "metadata": {},
   "outputs": [
    {
     "data": {
      "image/png": "[encoded data removed]",
      "text/plain": [
       "<Figure size 432x288 with 1 Axes>"
      ]
     },
     "metadata": {
      "needs_background": "light"
     },
     "output_type": "display_data"
    }
   ],
   "source": [
    "\n",
    "for o,r, p in zip(df_rfcn['ovitrap'], df_rfcn['recall'], df_rfcn['precision_array']):\n",
    "    precision = np.array(ast.literal_eval(p)).astype(float)\n",
    "    recall = np.array(ast.literal_eval(r)).astype(float)\n",
    "    plt.plot(recall, precision, label=\"Ovitrap \"+o, linewidth=3)"
   ]
  },
  {
   "cell_type": "markdown",
   "metadata": {},
   "source": [
    "## Mean Precision"
   ]
  },
  {
   "cell_type": "code",
   "execution_count": 90,
   "metadata": {},
   "outputs": [
    {
     "data": {
      "text/plain": [
       "0.933020705346953"
      ]
     },
     "execution_count": 90,
     "metadata": {},
     "output_type": "execute_result"
    }
   ],
   "source": [
    "np.mean(df['precision'])"
   ]
  },
  {
   "cell_type": "code",
   "execution_count": 58,
   "metadata": {},
   "outputs": [
    {
     "data": {
      "text/plain": [
       "0.8521862739967009"
      ]
     },
     "execution_count": 58,
     "metadata": {},
     "output_type": "execute_result"
    }
   ],
   "source": [
    "np.mean(df_rfcn['p'])"
   ]
  },
  {
   "cell_type": "code",
   "execution_count": 92,
   "metadata": {},
   "outputs": [
    {
     "data": {
      "text/plain": [
       "82.361"
      ]
     },
     "execution_count": 92,
     "metadata": {},
     "output_type": "execute_result"
    }
   ],
   "source": [
    "np.mean(df['mAP'])"
   ]
  },
  {
   "cell_type": "code",
   "execution_count": 93,
   "metadata": {},
   "outputs": [
    {
     "data": {
      "text/plain": [
       "61.900999999999996"
      ]
     },
     "execution_count": 93,
     "metadata": {},
     "output_type": "execute_result"
    }
   ],
   "source": [
    "np.mean(df_rfcn['mAP'])"
   ]
  },
  {
   "cell_type": "code",
   "execution_count": null,
   "metadata": {},
   "outputs": [],
   "source": []
  }
 ],
 "metadata": {
  "kernelspec": {
   "display_name": "Python 3",
   "language": "python",
   "name": "python3"
  },
  "language_info": {
   "codemirror_mode": {
    "name": "ipython",
    "version": 3
   },
   "file_extension": ".py",
   "mimetype": "text/x-python",
   "name": "python",
   "nbconvert_exporter": "python",
   "pygments_lexer": "ipython3",
   "version": "3.7.3"
  }
 },
 "nbformat": 4,
 "nbformat_minor": 2
}
