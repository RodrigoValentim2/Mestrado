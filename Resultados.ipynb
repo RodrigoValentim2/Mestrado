{
 "cells": [
  {
   "cell_type": "code",
   "execution_count": 84,
   "metadata": {},
   "outputs": [],
   "source": [
    "import pandas as pd\n",
    "import numpy as np\n",
    "import ast\n",
    "from matplotlib import pyplot as plt\n",
    "ast.literal_eval(df['recall'].values[0])"
   ]
  },
  {
   "cell_type": "markdown",
   "metadata": {},
   "source": [
    "# Results to RCNN"
   ]
  },
  {
   "cell_type": "code",
   "execution_count": 178,
   "metadata": {},
   "outputs": [],
   "source": [
    "names=['ovitrap','ground_truth','detected','mAP','detected_true_positive','detected_false_positives','recall','precision']"
   ]
  },
  {
   "cell_type": "code",
   "execution_count": 179,
   "metadata": {},
   "outputs": [],
   "source": [
    "colunms_type = {'ovitrap': str,'mAP': float,'detected':int, 'detected_true_positive':int,'detected_false_positives':int}"
   ]
  },
  {
   "cell_type": "code",
   "execution_count": 180,
   "metadata": {},
   "outputs": [],
   "source": [
    "df = pd.read_csv(\"resultados artigo/rcnn/56/rcnn.txt\", sep=\";\", names=names, skiprows=1, dtype=colunms_type )"
   ]
  },
  {
   "cell_type": "code",
   "execution_count": 181,
   "metadata": {},
   "outputs": [
    {
     "data": {
      "text/html": [
       "<div>\n",
       "<style scoped>\n",
       "    .dataframe tbody tr th:only-of-type {\n",
       "        vertical-align: middle;\n",
       "    }\n",
       "\n",
       "    .dataframe tbody tr th {\n",
       "        vertical-align: top;\n",
       "    }\n",
       "\n",
       "    .dataframe thead th {\n",
       "        text-align: right;\n",
       "    }\n",
       "</style>\n",
       "<table border=\"1\" class=\"dataframe\">\n",
       "  <thead>\n",
       "    <tr style=\"text-align: right;\">\n",
       "      <th></th>\n",
       "      <th>ovitrap</th>\n",
       "      <th>ground_truth</th>\n",
       "      <th>detected</th>\n",
       "      <th>mAP</th>\n",
       "      <th>detected_true_positive</th>\n",
       "      <th>detected_false_positives</th>\n",
       "      <th>recall</th>\n",
       "      <th>precision</th>\n",
       "    </tr>\n",
       "  </thead>\n",
       "  <tbody>\n",
       "    <tr>\n",
       "      <th>0</th>\n",
       "      <td>56</td>\n",
       "      <td>28</td>\n",
       "      <td>27</td>\n",
       "      <td>88.34</td>\n",
       "      <td>25</td>\n",
       "      <td>2</td>\n",
       "      <td>['1.00', '1.00', '1.00', '1.00', '1.00', '1.00...</td>\n",
       "      <td>['0.04', '0.07', '0.11', '0.14', '0.18', '0.21...</td>\n",
       "    </tr>\n",
       "    <tr>\n",
       "      <th>1</th>\n",
       "      <td>57</td>\n",
       "      <td>281</td>\n",
       "      <td>229</td>\n",
       "      <td>80.75</td>\n",
       "      <td>227</td>\n",
       "      <td>2</td>\n",
       "      <td>['0.00', '0.01', '0.01', '0.01', '0.02', '0.02...</td>\n",
       "      <td>['1.00', '1.00', '1.00', '1.00', '1.00', '1.00...</td>\n",
       "    </tr>\n",
       "    <tr>\n",
       "      <th>2</th>\n",
       "      <td>62</td>\n",
       "      <td>161</td>\n",
       "      <td>89</td>\n",
       "      <td>55.28</td>\n",
       "      <td>89</td>\n",
       "      <td>0</td>\n",
       "      <td>['0.01', '0.01', '0.02', '0.02', '0.03', '0.04...</td>\n",
       "      <td>['1.00', '1.00', '1.00', '1.00', '1.00', '1.00...</td>\n",
       "    </tr>\n",
       "    <tr>\n",
       "      <th>3</th>\n",
       "      <td>64</td>\n",
       "      <td>886</td>\n",
       "      <td>756</td>\n",
       "      <td>84.40</td>\n",
       "      <td>749</td>\n",
       "      <td>7</td>\n",
       "      <td>['0.00', '0.00', '0.00', '0.00', '0.01', '0.01...</td>\n",
       "      <td>['1.00', '1.00', '1.00', '1.00', '1.00', '1.00...</td>\n",
       "    </tr>\n",
       "    <tr>\n",
       "      <th>4</th>\n",
       "      <td>68</td>\n",
       "      <td>455</td>\n",
       "      <td>385</td>\n",
       "      <td>83.57</td>\n",
       "      <td>381</td>\n",
       "      <td>4</td>\n",
       "      <td>['0.00', '0.00', '0.01', '0.01', '0.01', '0.01...</td>\n",
       "      <td>['1.00', '1.00', '1.00', '1.00', '1.00', '1.00...</td>\n",
       "    </tr>\n",
       "  </tbody>\n",
       "</table>\n",
       "</div>"
      ],
      "text/plain": [
       "  ovitrap  ground_truth  detected    mAP  detected_true_positive  \\\n",
       "0      56            28        27  88.34                      25   \n",
       "1      57           281       229  80.75                     227   \n",
       "2      62           161        89  55.28                      89   \n",
       "3      64           886       756  84.40                     749   \n",
       "4      68           455       385  83.57                     381   \n",
       "\n",
       "   detected_false_positives  \\\n",
       "0                         2   \n",
       "1                         2   \n",
       "2                         0   \n",
       "3                         7   \n",
       "4                         4   \n",
       "\n",
       "                                              recall  \\\n",
       "0  ['1.00', '1.00', '1.00', '1.00', '1.00', '1.00...   \n",
       "1  ['0.00', '0.01', '0.01', '0.01', '0.02', '0.02...   \n",
       "2  ['0.01', '0.01', '0.02', '0.02', '0.03', '0.04...   \n",
       "3  ['0.00', '0.00', '0.00', '0.00', '0.01', '0.01...   \n",
       "4  ['0.00', '0.00', '0.01', '0.01', '0.01', '0.01...   \n",
       "\n",
       "                                           precision  \n",
       "0  ['0.04', '0.07', '0.11', '0.14', '0.18', '0.21...  \n",
       "1  ['1.00', '1.00', '1.00', '1.00', '1.00', '1.00...  \n",
       "2  ['1.00', '1.00', '1.00', '1.00', '1.00', '1.00...  \n",
       "3  ['1.00', '1.00', '1.00', '1.00', '1.00', '1.00...  \n",
       "4  ['1.00', '1.00', '1.00', '1.00', '1.00', '1.00...  "
      ]
     },
     "execution_count": 181,
     "metadata": {},
     "output_type": "execute_result"
    }
   ],
   "source": [
    "df.head()"
   ]
  },
  {
   "cell_type": "code",
   "execution_count": 210,
   "metadata": {
    "scrolled": true
   },
   "outputs": [
    {
     "data": {
      "text/plain": [
       "<matplotlib.legend.Legend at 0x7fa4cfad7b70>"
      ]
     },
     "execution_count": 210,
     "metadata": {},
     "output_type": "execute_result"
    },
    {
     "data": {
      "image/png": "[encoded data removed]",
      "text/plain": [
       "<Figure size 504x288 with 1 Axes>"
      ]
     },
     "metadata": {
      "needs_background": "light"
     },
     "output_type": "display_data"
    }
   ],
   "source": [
    "ground_truth = df['ground_truth'].values\n",
    "detected_true_positive = df['detected_true_positive'].values\n",
    "detected_false_positive = df['detected_false_positives'].values\n",
    "detected = df['detected'].values\n",
    "ovitraps = df['ovitrap'].values\n",
    "plt.figure(figsize=(7,4))\n",
    "plt.bar(ovitraps, ground_truth, label=\"Ground Truth\")\n",
    "plt.bar(ovitraps, detected_true_positive, label=\"True Positives\")\n",
    "plt.bar(ovitraps, detected_false_positive, label=\"False Positives\")\n",
    "y_ticks = np.arange(0,max(ground_truth)+50, 55)\n",
    "plt.yticks(y_ticks, fontsize=12)\n",
    "plt.legend()"
   ]
  },
  {
   "cell_type": "code",
   "execution_count": 191,
   "metadata": {},
   "outputs": [
    {
     "data": {
      "text/plain": [
       "886"
      ]
     },
     "execution_count": 191,
     "metadata": {},
     "output_type": "execute_result"
    }
   ],
   "source": [
    "max(ground_truth)"
   ]
  },
  {
   "cell_type": "code",
   "execution_count": null,
   "metadata": {},
   "outputs": [],
   "source": []
  }
 ],
 "metadata": {
  "kernelspec": {
   "display_name": "Python 3",
   "language": "python",
   "name": "python3"
  },
  "language_info": {
   "codemirror_mode": {
    "name": "ipython",
    "version": 3
   },
   "file_extension": ".py",
   "mimetype": "text/x-python",
   "name": "python",
   "nbconvert_exporter": "python",
   "pygments_lexer": "ipython3",
   "version": "3.7.3"
  }
 },
 "nbformat": 4,
 "nbformat_minor": 2
}
